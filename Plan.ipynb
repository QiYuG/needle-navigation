{
 "cells": [
  {
   "cell_type": "markdown",
   "id": "e496311f",
   "metadata": {},
   "source": [
    "# Plan 1\n",
    "- 输入：[心脏的点云，瓣膜的点云，导管的点云]\n",
    "- 输出：[theta_x, theta_y, theta_z, dz1]\n",
    "# Plan 2\n",
    "- 输入：心脏的点云&瓣膜的点云&导管的点云\n",
    "- 输出：[theta_x, theta_y, theta_z, dz1]"
   ]
  }
 ],
 "metadata": {
  "language_info": {
   "name": "python"
  }
 },
 "nbformat": 4,
 "nbformat_minor": 5
}
